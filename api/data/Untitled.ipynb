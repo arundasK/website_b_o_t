{
 "cells": [
  {
   "cell_type": "code",
   "execution_count": 17,
   "metadata": {},
   "outputs": [],
   "source": [
    "import pandas as pd\n",
    "import numpy as np"
   ]
  },
  {
   "cell_type": "code",
   "execution_count": 18,
   "metadata": {},
   "outputs": [],
   "source": [
    "df=pd.read_csv(\"flag.csv\")"
   ]
  },
  {
   "cell_type": "code",
   "execution_count": 19,
   "metadata": {},
   "outputs": [],
   "source": [
    "sessionid=123"
   ]
  },
  {
   "cell_type": "code",
   "execution_count": 43,
   "metadata": {},
   "outputs": [],
   "source": [
    "dic=[]"
   ]
  },
  {
   "cell_type": "code",
   "execution_count": 44,
   "metadata": {},
   "outputs": [],
   "source": [
    "dic.append({\"session\": sessionid, \"flag\": {\"arun\":0,\"das\":0}})"
   ]
  },
  {
   "cell_type": "code",
   "execution_count": 45,
   "metadata": {},
   "outputs": [],
   "source": [
    "sessionid=246"
   ]
  },
  {
   "cell_type": "code",
   "execution_count": 46,
   "metadata": {},
   "outputs": [],
   "source": [
    "dic.append({\"session\": sessionid, \"flag\": {\"arun\":0,\"das\":0}})"
   ]
  },
  {
   "cell_type": "code",
   "execution_count": 49,
   "metadata": {},
   "outputs": [
    {
     "data": {
      "text/plain": [
       "[{'flag': {'arun': 0, 'das': 0}, 'session': 123},\n",
       " {'flag': {'arun': 0, 'das': 0}, 'session': 246}]"
      ]
     },
     "execution_count": 49,
     "metadata": {},
     "output_type": "execute_result"
    }
   ],
   "source": [
    "dic"
   ]
  },
  {
   "cell_type": "code",
   "execution_count": 51,
   "metadata": {},
   "outputs": [
    {
     "name": "stdout",
     "output_type": "stream",
     "text": [
      "123\n",
      "246\n"
     ]
    }
   ],
   "source": [
    "for item in dic:\n",
    "    print item[\"session\"]"
   ]
  },
  {
   "cell_type": "code",
   "execution_count": 2,
   "metadata": {},
   "outputs": [],
   "source": [
    "dic={\"session\": [], \"flag\": []}"
   ]
  },
  {
   "cell_type": "code",
   "execution_count": 3,
   "metadata": {},
   "outputs": [],
   "source": [
    "dic[\"session\"].append(125)"
   ]
  },
  {
   "cell_type": "code",
   "execution_count": 4,
   "metadata": {},
   "outputs": [],
   "source": [
    "dic[\"session\"].append(130)"
   ]
  },
  {
   "cell_type": "code",
   "execution_count": 5,
   "metadata": {},
   "outputs": [],
   "source": [
    "flag={\"flag\":0,\"name\":[],\"parameters\":[],\"category\":\"\",\"flag_\":{\"chest pain\":0,\"difficulty in breathing\":0, \"pain behind the eyes\":0, \"yellow tinge on skins and eyes\":0,\"skin rash\":0,\"abdominal pain\":0,\"mosquito_bite\":0}}"
   ]
  },
  {
   "cell_type": "code",
   "execution_count": 7,
   "metadata": {},
   "outputs": [],
   "source": [
    "dic[\"flag\"].append(flag)"
   ]
  },
  {
   "cell_type": "code",
   "execution_count": 8,
   "metadata": {},
   "outputs": [
    {
     "data": {
      "text/plain": [
       "{'flag': [{'category': '',\n",
       "   'flag': 0,\n",
       "   'flag_': {'abdominal pain': 0,\n",
       "    'chest pain': 0,\n",
       "    'difficulty in breathing': 0,\n",
       "    'mosquito_bite': 0,\n",
       "    'pain behind the eyes': 0,\n",
       "    'skin rash': 0,\n",
       "    'yellow tinge on skins and eyes': 0},\n",
       "   'name': [],\n",
       "   'parameters': []},\n",
       "  {'category': '',\n",
       "   'flag': 0,\n",
       "   'flag_': {'abdominal pain': 0,\n",
       "    'chest pain': 0,\n",
       "    'difficulty in breathing': 0,\n",
       "    'mosquito_bite': 0,\n",
       "    'pain behind the eyes': 0,\n",
       "    'skin rash': 0,\n",
       "    'yellow tinge on skins and eyes': 0},\n",
       "   'name': [],\n",
       "   'parameters': []}],\n",
       " 'session': [125, 130]}"
      ]
     },
     "execution_count": 8,
     "metadata": {},
     "output_type": "execute_result"
    }
   ],
   "source": [
    "dic"
   ]
  },
  {
   "cell_type": "code",
   "execution_count": 9,
   "metadata": {},
   "outputs": [],
   "source": [
    "sessionid=133"
   ]
  },
  {
   "cell_type": "code",
   "execution_count": 10,
   "metadata": {},
   "outputs": [
    {
     "name": "stdout",
     "output_type": "stream",
     "text": [
      "hello\n"
     ]
    }
   ],
   "source": [
    "if sessionid not in dic[\"session\"]:\n",
    "    print \"hello\""
   ]
  },
  {
   "cell_type": "code",
   "execution_count": 11,
   "metadata": {},
   "outputs": [
    {
     "data": {
      "text/plain": [
       "{'flag': [{'category': '',\n",
       "   'flag': 0,\n",
       "   'flag_': {'abdominal pain': 0,\n",
       "    'chest pain': 0,\n",
       "    'difficulty in breathing': 0,\n",
       "    'mosquito_bite': 0,\n",
       "    'pain behind the eyes': 0,\n",
       "    'skin rash': 0,\n",
       "    'yellow tinge on skins and eyes': 0},\n",
       "   'name': [],\n",
       "   'parameters': []},\n",
       "  {'category': '',\n",
       "   'flag': 0,\n",
       "   'flag_': {'abdominal pain': 0,\n",
       "    'chest pain': 0,\n",
       "    'difficulty in breathing': 0,\n",
       "    'mosquito_bite': 0,\n",
       "    'pain behind the eyes': 0,\n",
       "    'skin rash': 0,\n",
       "    'yellow tinge on skins and eyes': 0},\n",
       "   'name': [],\n",
       "   'parameters': []}],\n",
       " 'session': [125, 130]}"
      ]
     },
     "execution_count": 11,
     "metadata": {},
     "output_type": "execute_result"
    }
   ],
   "source": [
    "dic"
   ]
  },
  {
   "cell_type": "code",
   "execution_count": 12,
   "metadata": {},
   "outputs": [],
   "source": [
    "sessionid=130"
   ]
  },
  {
   "cell_type": "code",
   "execution_count": 16,
   "metadata": {},
   "outputs": [],
   "source": [
    "dic[\"flag\"][dic[\"session\"].index(sessionid)][\"flag\"]=1"
   ]
  },
  {
   "cell_type": "code",
   "execution_count": 17,
   "metadata": {},
   "outputs": [
    {
     "data": {
      "text/plain": [
       "{'flag': [{'category': '',\n",
       "   'flag': 1,\n",
       "   'flag_': {'abdominal pain': 0,\n",
       "    'chest pain': 0,\n",
       "    'difficulty in breathing': 0,\n",
       "    'mosquito_bite': 0,\n",
       "    'pain behind the eyes': 0,\n",
       "    'skin rash': 0,\n",
       "    'yellow tinge on skins and eyes': 0},\n",
       "   'name': [],\n",
       "   'parameters': []},\n",
       "  {'category': '',\n",
       "   'flag': 1,\n",
       "   'flag_': {'abdominal pain': 0,\n",
       "    'chest pain': 0,\n",
       "    'difficulty in breathing': 0,\n",
       "    'mosquito_bite': 0,\n",
       "    'pain behind the eyes': 0,\n",
       "    'skin rash': 0,\n",
       "    'yellow tinge on skins and eyes': 0},\n",
       "   'name': [],\n",
       "   'parameters': []}],\n",
       " 'session': [125, 130]}"
      ]
     },
     "execution_count": 17,
     "metadata": {},
     "output_type": "execute_result"
    }
   ],
   "source": [
    "dic"
   ]
  },
  {
   "cell_type": "code",
   "execution_count": 18,
   "metadata": {},
   "outputs": [],
   "source": [
    "category=\"continuous fever\""
   ]
  },
  {
   "cell_type": "code",
   "execution_count": 19,
   "metadata": {},
   "outputs": [],
   "source": [
    "dic[\"flag\"][dic[\"session\"].index(sessionid)][\"category\"]=category"
   ]
  },
  {
   "cell_type": "code",
   "execution_count": 20,
   "metadata": {},
   "outputs": [
    {
     "data": {
      "text/plain": [
       "{'flag': [{'category': 'continuous fever',\n",
       "   'flag': 1,\n",
       "   'flag_': {'abdominal pain': 0,\n",
       "    'chest pain': 0,\n",
       "    'difficulty in breathing': 0,\n",
       "    'mosquito_bite': 0,\n",
       "    'pain behind the eyes': 0,\n",
       "    'skin rash': 0,\n",
       "    'yellow tinge on skins and eyes': 0},\n",
       "   'name': [],\n",
       "   'parameters': []},\n",
       "  {'category': 'continuous fever',\n",
       "   'flag': 1,\n",
       "   'flag_': {'abdominal pain': 0,\n",
       "    'chest pain': 0,\n",
       "    'difficulty in breathing': 0,\n",
       "    'mosquito_bite': 0,\n",
       "    'pain behind the eyes': 0,\n",
       "    'skin rash': 0,\n",
       "    'yellow tinge on skins and eyes': 0},\n",
       "   'name': [],\n",
       "   'parameters': []}],\n",
       " 'session': [125, 130]}"
      ]
     },
     "execution_count": 20,
     "metadata": {},
     "output_type": "execute_result"
    }
   ],
   "source": []
  },
  {
   "cell_type": "code",
   "execution_count": 39,
   "metadata": {},
   "outputs": [],
   "source": [
    "if [\"fever\",\"cold\"] in dic[\"flag\"][dic[\"session\"].index(sessionid)][\"parameters\"]:\n",
    "    print \"hello\""
   ]
  },
  {
   "cell_type": "code",
   "execution_count": null,
   "metadata": {},
   "outputs": [],
   "source": []
  },
  {
   "cell_type": "code",
   "execution_count": 42,
   "metadata": {},
   "outputs": [],
   "source": [
    "dic[\"flag\"][dic[\"session\"].index(sessionid)][\"flag\"]=0"
   ]
  },
  {
   "cell_type": "code",
   "execution_count": 44,
   "metadata": {},
   "outputs": [
    {
     "data": {
      "text/plain": [
       "{'abdominal pain': 0,\n",
       " 'chest pain': 0,\n",
       " 'difficulty in breathing': 0,\n",
       " 'mosquito_bite': 0,\n",
       " 'pain behind the eyes': 0,\n",
       " 'skin rash': 0,\n",
       " 'yellow tinge on skins and eyes': 0}"
      ]
     },
     "execution_count": 44,
     "metadata": {},
     "output_type": "execute_result"
    }
   ],
   "source": [
    "dic[\"flag\"][dic[\"session\"].index (sessionid)][\"flag_\"]"
   ]
  },
  {
   "cell_type": "code",
   "execution_count": 48,
   "metadata": {},
   "outputs": [
    {
     "data": {
      "text/plain": [
       "[]"
      ]
     },
     "execution_count": 48,
     "metadata": {},
     "output_type": "execute_result"
    }
   ],
   "source": [
    "dic[\"flag\"][dic[\"session\"].index(sessionid)][\"name\"]"
   ]
  },
  {
   "cell_type": "code",
   "execution_count": null,
   "metadata": {},
   "outputs": [],
   "source": []
  }
 ],
 "metadata": {
  "kernelspec": {
   "display_name": "Python 2",
   "language": "python",
   "name": "python2"
  },
  "language_info": {
   "codemirror_mode": {
    "name": "ipython",
    "version": 2
   },
   "file_extension": ".py",
   "mimetype": "text/x-python",
   "name": "python",
   "nbconvert_exporter": "python",
   "pygments_lexer": "ipython2",
   "version": "2.7.14"
  }
 },
 "nbformat": 4,
 "nbformat_minor": 2
}
